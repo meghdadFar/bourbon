{
 "cells": [
  {
   "cell_type": "markdown",
   "id": "9ea9c6d1",
   "metadata": {},
   "source": [
    "## Training an RL agent to predict country capitals\n",
    "\n",
    "This notebook presents a worked example of how to build an RL agent with Kandula. In this example we build an RL agent that learns what are the capitals of different countrys."
   ]
  },
  {
   "cell_type": "markdown",
   "id": "53f2a666",
   "metadata": {},
   "source": [
    "### Setup\n",
    "\n",
    "First things first, let's import the requirements. "
   ]
  },
  {
   "cell_type": "code",
   "execution_count": 2,
   "id": "794bfa8a",
   "metadata": {},
   "outputs": [],
   "source": [
    "from kandula import logging\n",
    "from kandula.steps import RLStep\n",
    "from kandula.qtable import QTable\n",
    "from kandula.Q_learning import QL\n",
    "from typing import List\n",
    "\n",
    "from functools import reduce\n",
    "import torch\n",
    "import json\n",
    "import random\n",
    "from nltk import word_tokenize"
   ]
  },
  {
   "cell_type": "markdown",
   "id": "ed4932a7",
   "metadata": {},
   "source": [
    "For this example, in order to train the RL agent, we have downloaded a json file that contains the countris of the world and their capitals from [this repository](https://github.com/icyrockcom/country-capitals/blob/master/data/country-list-with-ids.json). For convenience, we downloaded the file into the [presources folder](https://github.com/meghdadFar/kandula/tree/main/resources) in this repository. Let's read this file and prune it so that it suits our needs."
   ]
  },
  {
   "cell_type": "code",
   "execution_count": 5,
   "id": "ec3c1654",
   "metadata": {},
   "outputs": [],
   "source": [
    "with open(\"../resources/country_capital.json\", \"r\") as fc:\n",
    "    capitals: List = json.load(fc)\n",
    "capitals_dict = {}\n",
    "country_index = {}\n",
    "index_country = {}\n",
    "i=1\n",
    "for jl in capitals:\n",
    "    capitals_dict[jl[\"country\"]] = jl[\"capital\"]\n",
    "    country_index[jl[\"country\"]] = i\n",
    "    index_country[i] = jl[\"country\"]\n",
    "    i+=1"
   ]
  },
  {
   "cell_type": "markdown",
   "id": "f7aea3af",
   "metadata": {},
   "source": [
    "In the above code, we first read the json lines into `capitals`, we then create three dictionaries from it: `capitals_dict` that maps the country names to their capitals, `country_index` that maps the country names to incremental indexes, and `index_country` that maps back indexes to country names."
   ]
  },
  {
   "cell_type": "markdown",
   "id": "4eb55fca",
   "metadata": {},
   "source": [
    "### Define your state space and actions\n",
    "\n",
    "The first thing that we should consider is how do we want to map our problem to a state-action space. In this example, I consider that each contry represents a stae and hence, we will have a 1-dimensional state space of 248. If the space was 2-dimensional and say the first dimension had a size N and the second dimension has a size M, we could "
   ]
  },
  {
   "cell_type": "code",
   "execution_count": null,
   "id": "ac2c68a0",
   "metadata": {},
   "outputs": [],
   "source": [
    "state_space = [248]\n",
    "actions = [v for _, v in capitals_dict.items()]"
   ]
  },
  {
   "cell_type": "markdown",
   "id": "97ebddd4",
   "metadata": {},
   "source": [
    "### Define the RL Step\n",
    "\n",
    "It's now time to define our RL step. An RL step should be a child of `kandula.steps.RLStep` class and implement its two abstract methods, namely `get_state()` and `get_reward()`. This is where you make the RL learning specific to your problem. In other words, you only have to think about and implement these two methods so that they represent your problem. "
   ]
  },
  {
   "cell_type": "code",
   "execution_count": null,
   "id": "8d674e07",
   "metadata": {},
   "outputs": [],
   "source": []
  }
 ],
 "metadata": {
  "kernelspec": {
   "display_name": "Python 3 (ipykernel)",
   "language": "python",
   "name": "python3"
  },
  "language_info": {
   "codemirror_mode": {
    "name": "ipython",
    "version": 3
   },
   "file_extension": ".py",
   "mimetype": "text/x-python",
   "name": "python",
   "nbconvert_exporter": "python",
   "pygments_lexer": "ipython3",
   "version": "3.10.6"
  }
 },
 "nbformat": 4,
 "nbformat_minor": 5
}
